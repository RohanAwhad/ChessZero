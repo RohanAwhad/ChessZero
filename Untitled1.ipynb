{
 "cells": [
  {
   "cell_type": "code",
   "execution_count": 1,
   "metadata": {},
   "outputs": [
    {
     "name": "stderr",
     "output_type": "stream",
     "text": [
      "Using TensorFlow backend.\n"
     ]
    }
   ],
   "source": [
    "from actor_critic import Agent\n",
    "from state import State"
   ]
  },
  {
   "cell_type": "code",
   "execution_count": 2,
   "metadata": {},
   "outputs": [],
   "source": [
    "board = State(1)\n",
    "white = State(1)\n",
    "black = State(0)"
   ]
  },
  {
   "cell_type": "code",
   "execution_count": 3,
   "metadata": {},
   "outputs": [
    {
     "data": {
      "text/plain": [
       "array([[[0., 0., 0., ..., 1., 0., 1.],\n",
       "        [0., 0., 0., ..., 1., 0., 1.],\n",
       "        [0., 0., 0., ..., 1., 0., 1.],\n",
       "        ...,\n",
       "        [0., 0., 0., ..., 1., 0., 1.],\n",
       "        [0., 0., 0., ..., 1., 0., 1.],\n",
       "        [0., 0., 0., ..., 1., 0., 1.]],\n",
       "\n",
       "       [[0., 0., 0., ..., 1., 0., 1.],\n",
       "        [0., 0., 0., ..., 1., 0., 1.],\n",
       "        [0., 0., 0., ..., 1., 0., 1.],\n",
       "        ...,\n",
       "        [0., 0., 0., ..., 1., 0., 1.],\n",
       "        [0., 0., 0., ..., 1., 0., 1.],\n",
       "        [0., 0., 0., ..., 1., 0., 1.]],\n",
       "\n",
       "       [[0., 0., 0., ..., 1., 0., 1.],\n",
       "        [0., 0., 0., ..., 1., 0., 1.],\n",
       "        [0., 0., 0., ..., 1., 0., 1.],\n",
       "        ...,\n",
       "        [0., 0., 0., ..., 1., 0., 1.],\n",
       "        [0., 0., 0., ..., 1., 0., 1.],\n",
       "        [0., 0., 0., ..., 1., 0., 1.]],\n",
       "\n",
       "       ...,\n",
       "\n",
       "       [[0., 0., 0., ..., 1., 0., 1.],\n",
       "        [0., 0., 0., ..., 1., 0., 1.],\n",
       "        [0., 0., 0., ..., 1., 0., 1.],\n",
       "        ...,\n",
       "        [0., 0., 0., ..., 1., 0., 1.],\n",
       "        [0., 0., 0., ..., 1., 0., 1.],\n",
       "        [0., 0., 0., ..., 1., 0., 1.]],\n",
       "\n",
       "       [[0., 0., 0., ..., 1., 0., 1.],\n",
       "        [0., 0., 0., ..., 1., 0., 1.],\n",
       "        [0., 0., 0., ..., 1., 0., 1.],\n",
       "        ...,\n",
       "        [0., 0., 0., ..., 1., 0., 1.],\n",
       "        [0., 0., 0., ..., 1., 0., 1.],\n",
       "        [0., 0., 0., ..., 1., 0., 1.]],\n",
       "\n",
       "       [[0., 0., 0., ..., 1., 0., 1.],\n",
       "        [0., 0., 0., ..., 1., 0., 1.],\n",
       "        [0., 0., 1., ..., 1., 0., 1.],\n",
       "        ...,\n",
       "        [0., 0., 1., ..., 1., 0., 1.],\n",
       "        [0., 0., 0., ..., 1., 0., 1.],\n",
       "        [0., 0., 0., ..., 1., 0., 1.]]])"
      ]
     },
     "execution_count": 3,
     "metadata": {},
     "output_type": "execute_result"
    }
   ],
   "source": [
    "board.ip"
   ]
  },
  {
   "cell_type": "code",
   "execution_count": 4,
   "metadata": {},
   "outputs": [],
   "source": [
    "#white.serialize_ip(move_number=1)"
   ]
  },
  {
   "cell_type": "code",
   "execution_count": 5,
   "metadata": {},
   "outputs": [
    {
     "data": {
      "text/plain": [
       "(8, 8, 91)"
      ]
     },
     "execution_count": 5,
     "metadata": {},
     "output_type": "execute_result"
    }
   ],
   "source": [
    "white.ip.shape"
   ]
  },
  {
   "cell_type": "code",
   "execution_count": 6,
   "metadata": {},
   "outputs": [
    {
     "data": {
      "text/plain": [
       "array([[0., 0., 0., 0., 0., 0., 0., 0.],\n",
       "       [0., 0., 0., 0., 0., 0., 0., 0.],\n",
       "       [0., 0., 0., 0., 0., 0., 0., 0.],\n",
       "       [0., 0., 0., 0., 0., 0., 0., 0.],\n",
       "       [0., 0., 0., 0., 0., 0., 0., 0.],\n",
       "       [0., 0., 0., 0., 0., 0., 0., 0.],\n",
       "       [0., 0., 0., 0., 0., 0., 0., 0.],\n",
       "       [0., 0., 0., 0., 1., 0., 0., 0.]])"
      ]
     },
     "execution_count": 6,
     "metadata": {},
     "output_type": "execute_result"
    }
   ],
   "source": [
    "white.ip[:, :, 0]"
   ]
  },
  {
   "cell_type": "code",
   "execution_count": 7,
   "metadata": {},
   "outputs": [],
   "source": [
    "#black.serialize_ip(1)"
   ]
  },
  {
   "cell_type": "code",
   "execution_count": 8,
   "metadata": {},
   "outputs": [
    {
     "data": {
      "text/plain": [
       "array([[0., 0., 0., 0., 1., 0., 0., 0.],\n",
       "       [0., 0., 0., 0., 0., 0., 0., 0.],\n",
       "       [0., 0., 0., 0., 0., 0., 0., 0.],\n",
       "       [0., 0., 0., 0., 0., 0., 0., 0.],\n",
       "       [0., 0., 0., 0., 0., 0., 0., 0.],\n",
       "       [0., 0., 0., 0., 0., 0., 0., 0.],\n",
       "       [0., 0., 0., 0., 0., 0., 0., 0.],\n",
       "       [0., 0., 0., 0., 0., 0., 0., 0.]])"
      ]
     },
     "execution_count": 8,
     "metadata": {},
     "output_type": "execute_result"
    }
   ],
   "source": [
    "black.ip[:, :, 0]"
   ]
  },
  {
   "cell_type": "code",
   "execution_count": 9,
   "metadata": {},
   "outputs": [],
   "source": [
    "import numpy as np"
   ]
  },
  {
   "cell_type": "code",
   "execution_count": 10,
   "metadata": {},
   "outputs": [
    {
     "data": {
      "text/plain": [
       "(8, 8, 91)"
      ]
     },
     "execution_count": 10,
     "metadata": {},
     "output_type": "execute_result"
    }
   ],
   "source": [
    "white.ip.reshape(8, 8, -1).shape"
   ]
  },
  {
   "cell_type": "code",
   "execution_count": 11,
   "metadata": {},
   "outputs": [
    {
     "data": {
      "text/plain": [
       "(8, 8)"
      ]
     },
     "execution_count": 11,
     "metadata": {},
     "output_type": "execute_result"
    }
   ],
   "source": [
    "white.ip[:, :, 12].reshape(8, 8).shape"
   ]
  },
  {
   "cell_type": "code",
   "execution_count": 12,
   "metadata": {},
   "outputs": [
    {
     "data": {
      "text/plain": [
       "array([[0., 0., 0., 0., 0., 0., 0., 0.],\n",
       "       [0., 0., 0., 0., 0., 0., 0., 0.],\n",
       "       [0., 0., 0., 0., 0., 0., 0., 0.],\n",
       "       [0., 0., 0., 0., 0., 0., 0., 0.],\n",
       "       [0., 0., 0., 0., 0., 0., 0., 0.],\n",
       "       [0., 0., 0., 0., 0., 0., 0., 0.],\n",
       "       [0., 0., 0., 0., 0., 0., 0., 0.],\n",
       "       [0., 0., 0., 0., 0., 0., 0., 0.]])"
      ]
     },
     "execution_count": 12,
     "metadata": {},
     "output_type": "execute_result"
    }
   ],
   "source": [
    "white.ip[:, :, 12].reshape(8, 8)"
   ]
  },
  {
   "cell_type": "code",
   "execution_count": 13,
   "metadata": {},
   "outputs": [
    {
     "data": {
      "text/plain": [
       "array([[1., 1., 1., 1., 1., 1., 1., 1.],\n",
       "       [1., 1., 1., 1., 1., 1., 1., 1.],\n",
       "       [0., 0., 0., 0., 0., 0., 0., 0.],\n",
       "       [0., 0., 0., 0., 0., 0., 0., 0.],\n",
       "       [0., 0., 0., 0., 0., 0., 0., 0.],\n",
       "       [0., 0., 0., 0., 0., 0., 0., 0.],\n",
       "       [1., 1., 1., 1., 1., 1., 1., 1.],\n",
       "       [1., 1., 1., 1., 1., 1., 1., 1.]])"
      ]
     },
     "execution_count": 13,
     "metadata": {},
     "output_type": "execute_result"
    }
   ],
   "source": [
    "def board_rep(ip):\n",
    "    temp = np.zeros((8, 8))\n",
    "    for i in range(12):\n",
    "        temp += ip[:, :, i]\n",
    "    return temp\n",
    "\n",
    "board_rep(white.ip)"
   ]
  },
  {
   "cell_type": "code",
   "execution_count": 14,
   "metadata": {},
   "outputs": [
    {
     "data": {
      "text/plain": [
       "[Move.from_uci('g1h3'),\n",
       " Move.from_uci('g1f3'),\n",
       " Move.from_uci('b1c3'),\n",
       " Move.from_uci('b1a3'),\n",
       " Move.from_uci('h2h3'),\n",
       " Move.from_uci('g2g3'),\n",
       " Move.from_uci('f2f3'),\n",
       " Move.from_uci('e2e3'),\n",
       " Move.from_uci('d2d3'),\n",
       " Move.from_uci('c2c3'),\n",
       " Move.from_uci('b2b3'),\n",
       " Move.from_uci('a2a3'),\n",
       " Move.from_uci('h2h4'),\n",
       " Move.from_uci('g2g4'),\n",
       " Move.from_uci('f2f4'),\n",
       " Move.from_uci('e2e4'),\n",
       " Move.from_uci('d2d4'),\n",
       " Move.from_uci('c2c4'),\n",
       " Move.from_uci('b2b4'),\n",
       " Move.from_uci('a2a4')]"
      ]
     },
     "execution_count": 14,
     "metadata": {},
     "output_type": "execute_result"
    }
   ],
   "source": [
    "moves = list(white.board.legal_moves)\n",
    "moves"
   ]
  },
  {
   "cell_type": "code",
   "execution_count": 15,
   "metadata": {},
   "outputs": [
    {
     "data": {
      "text/plain": [
       "['__bool__',\n",
       " '__class__',\n",
       " '__delattr__',\n",
       " '__dict__',\n",
       " '__dir__',\n",
       " '__doc__',\n",
       " '__eq__',\n",
       " '__format__',\n",
       " '__ge__',\n",
       " '__getattribute__',\n",
       " '__gt__',\n",
       " '__hash__',\n",
       " '__init__',\n",
       " '__init_subclass__',\n",
       " '__le__',\n",
       " '__lt__',\n",
       " '__module__',\n",
       " '__ne__',\n",
       " '__new__',\n",
       " '__reduce__',\n",
       " '__reduce_ex__',\n",
       " '__repr__',\n",
       " '__setattr__',\n",
       " '__sizeof__',\n",
       " '__str__',\n",
       " '__subclasshook__',\n",
       " '__weakref__',\n",
       " 'drop',\n",
       " 'from_square',\n",
       " 'from_uci',\n",
       " 'null',\n",
       " 'promotion',\n",
       " 'to_square',\n",
       " 'uci',\n",
       " 'xboard']"
      ]
     },
     "execution_count": 15,
     "metadata": {},
     "output_type": "execute_result"
    }
   ],
   "source": [
    "dir(moves[0])"
   ]
  },
  {
   "cell_type": "code",
   "execution_count": 16,
   "metadata": {},
   "outputs": [
    {
     "data": {
      "text/plain": [
       "'g1h3'"
      ]
     },
     "execution_count": 16,
     "metadata": {},
     "output_type": "execute_result"
    }
   ],
   "source": [
    "moves[0].uci()"
   ]
  },
  {
   "cell_type": "raw",
   "metadata": {},
   "source": [
    "Gets .uci() string representation from the move "
   ]
  },
  {
   "cell_type": "code",
   "execution_count": 17,
   "metadata": {},
   "outputs": [
    {
     "name": "stdout",
     "output_type": "stream",
     "text": [
      "Help on Move in module chess object:\n",
      "\n",
      "class Move(builtins.object)\n",
      " |  Represents a move from a square to a square and possibly the promotion\n",
      " |  piece type.\n",
      " |  \n",
      " |  Drops and null moves are supported.\n",
      " |  \n",
      " |  Methods defined here:\n",
      " |  \n",
      " |  __bool__(self) -> bool\n",
      " |  \n",
      " |  __eq__(self, other:object) -> bool\n",
      " |      Return self==value.\n",
      " |  \n",
      " |  __hash__(self) -> int\n",
      " |      Return hash(self).\n",
      " |  \n",
      " |  __init__(self, from_square:int, to_square:int, promotion:Union[int, NoneType]=None, drop:Union[int, NoneType]=None) -> None\n",
      " |      Initialize self.  See help(type(self)) for accurate signature.\n",
      " |  \n",
      " |  __repr__(self) -> str\n",
      " |      Return repr(self).\n",
      " |  \n",
      " |  __str__(self) -> str\n",
      " |      Return str(self).\n",
      " |  \n",
      " |  uci(self) -> str\n",
      " |      Gets an UCI string for the move.\n",
      " |      \n",
      " |      For example, a move from a7 to a8 would be ``a7a8`` or ``a7a8q``\n",
      " |      (if the latter is a promotion to a queen).\n",
      " |      \n",
      " |      The UCI representation of a null move is ``0000``.\n",
      " |  \n",
      " |  xboard(self) -> str\n",
      " |  \n",
      " |  ----------------------------------------------------------------------\n",
      " |  Class methods defined here:\n",
      " |  \n",
      " |  from_uci(uci:str) -> 'Move' from builtins.type\n",
      " |      Parses an UCI string.\n",
      " |      \n",
      " |      :raises: :exc:`ValueError` if the UCI string is invalid.\n",
      " |  \n",
      " |  null() -> 'Move' from builtins.type\n",
      " |      Gets a null move.\n",
      " |      \n",
      " |      A null move just passes the turn to the other side (and possibly\n",
      " |      forfeits en passant capturing). Null moves evaluate to ``False`` in\n",
      " |      boolean contexts.\n",
      " |      \n",
      " |      >>> import chess\n",
      " |      >>>\n",
      " |      >>> bool(chess.Move.null())\n",
      " |      False\n",
      " |  \n",
      " |  ----------------------------------------------------------------------\n",
      " |  Data descriptors defined here:\n",
      " |  \n",
      " |  __dict__\n",
      " |      dictionary for instance variables (if defined)\n",
      " |  \n",
      " |  __weakref__\n",
      " |      list of weak references to the object (if defined)\n",
      "\n"
     ]
    }
   ],
   "source": [
    "help(moves[0])"
   ]
  },
  {
   "cell_type": "code",
   "execution_count": 18,
   "metadata": {},
   "outputs": [
    {
     "ename": "IndexError",
     "evalue": "pop from empty list",
     "output_type": "error",
     "traceback": [
      "\u001b[0;31m---------------------------------------------------------------------------\u001b[0m",
      "\u001b[0;31mIndexError\u001b[0m                                Traceback (most recent call last)",
      "\u001b[0;32m<ipython-input-18-a1abfa834d21>\u001b[0m in \u001b[0;36m<module>\u001b[0;34m\u001b[0m\n\u001b[0;32m----> 1\u001b[0;31m \u001b[0mwhite\u001b[0m\u001b[0;34m.\u001b[0m\u001b[0mboard\u001b[0m\u001b[0;34m.\u001b[0m\u001b[0mpop\u001b[0m\u001b[0;34m(\u001b[0m\u001b[0;34m)\u001b[0m\u001b[0;34m\u001b[0m\u001b[0;34m\u001b[0m\u001b[0m\n\u001b[0m\u001b[1;32m      2\u001b[0m \u001b[0mwhite\u001b[0m\u001b[0;34m.\u001b[0m\u001b[0mboard\u001b[0m\u001b[0;34m.\u001b[0m\u001b[0mpush\u001b[0m\u001b[0;34m(\u001b[0m\u001b[0mmoves\u001b[0m\u001b[0;34m[\u001b[0m\u001b[0;36m0\u001b[0m\u001b[0;34m]\u001b[0m\u001b[0;34m)\u001b[0m\u001b[0;34m\u001b[0m\u001b[0;34m\u001b[0m\u001b[0m\n\u001b[1;32m      3\u001b[0m \u001b[0mwhite\u001b[0m\u001b[0;34m.\u001b[0m\u001b[0mip\u001b[0m \u001b[0;34m=\u001b[0m \u001b[0mwhite\u001b[0m\u001b[0;34m.\u001b[0m\u001b[0mserialize_ip\u001b[0m\u001b[0;34m(\u001b[0m\u001b[0;36m1\u001b[0m\u001b[0;34m)\u001b[0m\u001b[0;34m\u001b[0m\u001b[0;34m\u001b[0m\u001b[0m\n\u001b[1;32m      4\u001b[0m \u001b[0mboard_rep\u001b[0m\u001b[0;34m(\u001b[0m\u001b[0mwhite\u001b[0m\u001b[0;34m.\u001b[0m\u001b[0mip\u001b[0m\u001b[0;34m)\u001b[0m\u001b[0;34m\u001b[0m\u001b[0;34m\u001b[0m\u001b[0m\n",
      "\u001b[0;32m~/.local/lib/python3.6/site-packages/chess/__init__.py\u001b[0m in \u001b[0;36mpop\u001b[0;34m(self)\u001b[0m\n\u001b[1;32m   2059\u001b[0m         \u001b[0;34m:\u001b[0m\u001b[0mraises\u001b[0m\u001b[0;34m:\u001b[0m \u001b[0;34m:\u001b[0m\u001b[0mexc\u001b[0m\u001b[0;34m:\u001b[0m\u001b[0;31m`\u001b[0m\u001b[0mIndexError\u001b[0m\u001b[0;31m`\u001b[0m \u001b[0;32mif\u001b[0m \u001b[0mthe\u001b[0m \u001b[0mstack\u001b[0m \u001b[0;32mis\u001b[0m \u001b[0mempty\u001b[0m\u001b[0;34m.\u001b[0m\u001b[0;34m\u001b[0m\u001b[0;34m\u001b[0m\u001b[0m\n\u001b[1;32m   2060\u001b[0m         \"\"\"\n\u001b[0;32m-> 2061\u001b[0;31m         \u001b[0mmove\u001b[0m \u001b[0;34m=\u001b[0m \u001b[0mself\u001b[0m\u001b[0;34m.\u001b[0m\u001b[0mmove_stack\u001b[0m\u001b[0;34m.\u001b[0m\u001b[0mpop\u001b[0m\u001b[0;34m(\u001b[0m\u001b[0;34m)\u001b[0m\u001b[0;34m\u001b[0m\u001b[0;34m\u001b[0m\u001b[0m\n\u001b[0m\u001b[1;32m   2062\u001b[0m         \u001b[0mself\u001b[0m\u001b[0;34m.\u001b[0m\u001b[0m_stack\u001b[0m\u001b[0;34m.\u001b[0m\u001b[0mpop\u001b[0m\u001b[0;34m(\u001b[0m\u001b[0;34m)\u001b[0m\u001b[0;34m.\u001b[0m\u001b[0mrestore\u001b[0m\u001b[0;34m(\u001b[0m\u001b[0mself\u001b[0m\u001b[0;34m)\u001b[0m\u001b[0;34m\u001b[0m\u001b[0;34m\u001b[0m\u001b[0m\n\u001b[1;32m   2063\u001b[0m         \u001b[0;32mreturn\u001b[0m \u001b[0mmove\u001b[0m\u001b[0;34m\u001b[0m\u001b[0;34m\u001b[0m\u001b[0m\n",
      "\u001b[0;31mIndexError\u001b[0m: pop from empty list"
     ]
    }
   ],
   "source": [
    "\n",
    "white.board.push(moves[0])\n",
    "white.ip = white.serialize_ip(1)\n",
    "board_rep(white.ip)\n",
    "white.board.pop()"
   ]
  },
  {
   "cell_type": "code",
   "execution_count": null,
   "metadata": {},
   "outputs": [],
   "source": [
    "white_agent = Agent(depth_size=91)\n",
    "black_agent = Agent(depth_size=91)"
   ]
  },
  {
   "cell_type": "code",
   "execution_count": null,
   "metadata": {},
   "outputs": [],
   "source": [
    "v, p = black_agent.predict(np.expand_dims(board.ip, axis=0))"
   ]
  },
  {
   "cell_type": "code",
   "execution_count": null,
   "metadata": {},
   "outputs": [],
   "source": [
    "v"
   ]
  },
  {
   "cell_type": "code",
   "execution_count": null,
   "metadata": {},
   "outputs": [],
   "source": [
    "p"
   ]
  },
  {
   "cell_type": "code",
   "execution_count": null,
   "metadata": {},
   "outputs": [],
   "source": []
  },
  {
   "cell_type": "code",
   "execution_count": null,
   "metadata": {},
   "outputs": [],
   "source": [
    "def get_legal_moves(moves):\n",
    "    pickup_pos = []\n",
    "    landing_pos = []\n",
    "    promotion = []\n",
    "    for i in moves:\n",
    "        s = i.uci()\n",
    "        pickup_pos.append(s[:2])\n",
    "        landing_pos.append(s[2:4])\n",
    "        if len(s) > 4:\n",
    "            promotion.append(s[-1])\n",
    "        else:\n",
    "            promotion.append(None)\n",
    "            \n",
    "    print(f'PickUp positions : {pickup_pos}')\n",
    "    print(f'Landing positions : {landing_pos}')\n",
    "    print(f'Promotions : {promotion}')\n",
    "\n",
    "    return pickup_pos, landing_pos, promotion\n",
    "\n",
    "pu, l, pro = get_legal_moves(moves)"
   ]
  },
  {
   "cell_type": "code",
   "execution_count": null,
   "metadata": {},
   "outputs": [],
   "source": [
    "p.shape"
   ]
  },
  {
   "cell_type": "code",
   "execution_count": null,
   "metadata": {},
   "outputs": [],
   "source": []
  },
  {
   "cell_type": "code",
   "execution_count": null,
   "metadata": {},
   "outputs": [],
   "source": [
    "black.ip = black.serialize_ip(1)\n",
    "board_rep(black.ip)"
   ]
  },
  {
   "cell_type": "code",
   "execution_count": null,
   "metadata": {},
   "outputs": [],
   "source": [
    "list(black.board.legal_moves)"
   ]
  },
  {
   "cell_type": "code",
   "execution_count": null,
   "metadata": {},
   "outputs": [],
   "source": [
    "black.board"
   ]
  },
  {
   "cell_type": "code",
   "execution_count": null,
   "metadata": {},
   "outputs": [],
   "source": [
    "board_rep(white.ip)"
   ]
  },
  {
   "cell_type": "code",
   "execution_count": null,
   "metadata": {},
   "outputs": [],
   "source": [
    "pu, l, pro = get_legal_moves(list(black.board.legal_moves))"
   ]
  },
  {
   "cell_type": "code",
   "execution_count": null,
   "metadata": {},
   "outputs": [],
   "source": [
    "board_rep(black.ip)"
   ]
  },
  {
   "cell_type": "code",
   "execution_count": null,
   "metadata": {},
   "outputs": [],
   "source": [
    "v, p = black_agent.predict(np.expand_dims(black.ip, axis=0))\n",
    "p.shape"
   ]
  },
  {
   "cell_type": "code",
   "execution_count": null,
   "metadata": {},
   "outputs": [],
   "source": [
    "print(ord('g'))"
   ]
  },
  {
   "cell_type": "code",
   "execution_count": null,
   "metadata": {},
   "outputs": [],
   "source": [
    "col = ord(pu[0][0]) - ord('a')\n",
    "row = 8 - int(pu[0][1])\n",
    "print(row)\n",
    "print(col)"
   ]
  },
  {
   "cell_type": "code",
   "execution_count": null,
   "metadata": {},
   "outputs": [],
   "source": [
    "pickups = []\n",
    "for i in pu:\n",
    "    col = ord(i[0]) - ord('a')\n",
    "    row = 8 - int(i[1])\n",
    "    pickups.append((row, col))\n",
    "    \n",
    "pickups"
   ]
  },
  {
   "cell_type": "code",
   "execution_count": null,
   "metadata": {},
   "outputs": [],
   "source": [
    "p[0, 0, :].shape"
   ]
  },
  {
   "cell_type": "code",
   "execution_count": null,
   "metadata": {},
   "outputs": [],
   "source": [
    "np.zeros((73,)).shape"
   ]
  },
  {
   "cell_type": "code",
   "execution_count": null,
   "metadata": {},
   "outputs": [],
   "source": [
    "temp = np.zeros((8, 8, 73))\n",
    "for r, c in pickups:\n",
    "    temp[r, c, :] = p[r, c, :]\n",
    "    \n",
    "temp"
   ]
  },
  {
   "cell_type": "code",
   "execution_count": null,
   "metadata": {},
   "outputs": [],
   "source": [
    "temp.shape"
   ]
  },
  {
   "cell_type": "code",
   "execution_count": null,
   "metadata": {},
   "outputs": [],
   "source": [
    "temp[:, :, 0]"
   ]
  },
  {
   "cell_type": "markdown",
   "metadata": {},
   "source": [
    "## Predictions depth meaning\n",
    "\n",
    "### 0-55\n"
   ]
  },
  {
   "cell_type": "code",
   "execution_count": null,
   "metadata": {},
   "outputs": [],
   "source": [
    "cntr = 0\n",
    "for d in ['North', 'South', 'East', 'West', 'North East', 'North West', 'South East', 'South West']:\n",
    "    for i in range(1, 8):\n",
    "        print(f'Plane {cntr} : {i} step in {d} direction')\n",
    "        cntr += 1\n",
    "    "
   ]
  },
  {
   "cell_type": "markdown",
   "metadata": {},
   "source": [
    "### 56 - 63\n",
    "\n",
    "\n",
    " PLANE 56 NORTH EAST    N1E2  \n",
    " PLANE 57 NORTH EAST    N2E1  \n",
    " PLANE 58 NORTH WEST    N1W2  \n",
    " PLANE 59 NORTH WEST    N2W1  \n",
    " PLANE 60 SOUTH EAST    S1E2  \n",
    " PLANE 61 SOUTH EAST    S2E1  \n",
    " PLANE 62 SOUTH WEST    S1W2  \n",
    " PLANE 63 SOUTH WEST    S2W1    "
   ]
  },
  {
   "cell_type": "markdown",
   "metadata": {},
   "source": [
    "### 64 - 72\n",
    "\n",
    " PLANE 64 STRAIGHT Knight  \n",
    " PLANE 65 LEFT Knight  \n",
    " PLANE 66 RIGHT Knight  \n",
    " PLANE 67 STRAIGHT Bishop  \n",
    " PLANE 68 LEFT Bishop  \n",
    " PLANE 69 RIGHT Bishop  \n",
    " PLANE 70 STRAIGHT Rook  \n",
    " PLANE 71 LEFT Rook  \n",
    " PLANE 72 RIGHT Rook  "
   ]
  },
  {
   "cell_type": "code",
   "execution_count": null,
   "metadata": {},
   "outputs": [],
   "source": [
    "temp = np.zeros(p.shape)"
   ]
  },
  {
   "cell_type": "code",
   "execution_count": null,
   "metadata": {},
   "outputs": [],
   "source": [
    "temp.shape"
   ]
  },
  {
   "cell_type": "code",
   "execution_count": null,
   "metadata": {},
   "outputs": [],
   "source": [
    "p.shape"
   ]
  },
  {
   "cell_type": "code",
   "execution_count": null,
   "metadata": {},
   "outputs": [],
   "source": [
    "p"
   ]
  },
  {
   "cell_type": "code",
   "execution_count": null,
   "metadata": {},
   "outputs": [],
   "source": [
    "pu"
   ]
  },
  {
   "cell_type": "code",
   "execution_count": null,
   "metadata": {},
   "outputs": [],
   "source": [
    "board_rep(black.ip)"
   ]
  },
  {
   "cell_type": "code",
   "execution_count": null,
   "metadata": {},
   "outputs": [],
   "source": [
    "white = State(1)"
   ]
  },
  {
   "cell_type": "code",
   "execution_count": null,
   "metadata": {},
   "outputs": [],
   "source": [
    "white.ip"
   ]
  },
  {
   "cell_type": "code",
   "execution_count": null,
   "metadata": {},
   "outputs": [],
   "source": [
    "board_rep(white.ip)"
   ]
  },
  {
   "cell_type": "code",
   "execution_count": null,
   "metadata": {},
   "outputs": [],
   "source": [
    "move1 = list(white.board.legal_moves)[0]"
   ]
  },
  {
   "cell_type": "code",
   "execution_count": null,
   "metadata": {},
   "outputs": [],
   "source": [
    "move1"
   ]
  },
  {
   "cell_type": "code",
   "execution_count": null,
   "metadata": {},
   "outputs": [],
   "source": [
    "white.board.push(move1)\n",
    "temp_ip = white.serialize_ip(1)\n",
    "_ = white.board.pop()\n",
    "post = board_rep(temp_ip)"
   ]
  },
  {
   "cell_type": "code",
   "execution_count": null,
   "metadata": {},
   "outputs": [],
   "source": [
    "pre = board_rep(white.ip)"
   ]
  },
  {
   "cell_type": "code",
   "execution_count": null,
   "metadata": {},
   "outputs": [],
   "source": [
    "ans = pre - post"
   ]
  },
  {
   "cell_type": "code",
   "execution_count": null,
   "metadata": {},
   "outputs": [],
   "source": [
    "ans"
   ]
  },
  {
   "cell_type": "code",
   "execution_count": null,
   "metadata": {},
   "outputs": [],
   "source": [
    "pick_r, pick_c = np.where(ans == 1) # 1 because it is pre - post\n",
    "post_r, post_c = np.where(ans == -1)"
   ]
  },
  {
   "cell_type": "code",
   "execution_count": null,
   "metadata": {},
   "outputs": [],
   "source": [
    "print(pick_r - post_r)\n",
    "print(pick_r - post_c)\n",
    "print(pick_c - post_r)\n",
    "print(pick_c - post_c)"
   ]
  },
  {
   "cell_type": "markdown",
   "metadata": {},
   "source": [
    "if len(move) == 5 and move[-1] != 'q' then PROMOTION_FLAG == True\n",
    "\n",
    "if Row is same pick_r - post_r = 0 then move is in horizontal_direction(E/W)  \n",
    "  E sub_c > 0 PLANE 14 to 20  \n",
    "  W sub_c < 0 PLANE 21 to 27\n",
    "  \n",
    "elif col is same pick_c - post_c = 0 then move is in vertical direction(N/S)  \n",
    "\n",
    "  N sub_r < 0 PLANE 0 to 7   \n",
    "  S sub_r > 0 PLANE 8 to 13 # IF PROMOTION HAS TO BE MADE QUEEN IS CHOSEN    \n",
    "  if promotion_flag:  \n",
    "      if S then PLANE 64, 67, 70  \n",
    "\n",
    "elif | pick_r - post_r | == | pick_c - post_c | then move is in diagonal_direction(NE/NW/SE/SW)  \n",
    "  NE sub_r > 0 & sub_c < 0 PLANE 28 to 34  \n",
    "  NW sub_r < 0 & sub_c < 0 PLANE 35 to 41  \n",
    "  SE sub_r > 0 & sub_c > 0 PLANE 42 to 48  \n",
    "  SW sub_r < 0 & sub_c > 0 PLANE 59 to 55  \n",
    "  if promotion_flag:  \n",
    "      if SW then PLANE 65, 68, 71  \n",
    "      if SE then PLANE 66, 69, 72  \n",
    "\n",
    "\n",
    "else knight move  \n",
    "    | Plane | sub_c | sub_r |  \n",
    "    |-------|-------|-------|  \n",
    "    | 56    | -1    | 2     |  \n",
    "    | 57    | -2    | 1     |  \n",
    "    | 58    | -1    | -2    |  \n",
    "    | 59    | -2    | -1    |  \n",
    "    | 60    | 1     | 2     |  \n",
    "    | 61    | 2     | 1     |  \n",
    "    | 62    | 1     | -2    |  \n",
    "    | 63    | 2     | -1    |  \n",
    "    \n"
   ]
  },
  {
   "cell_type": "code",
   "execution_count": null,
   "metadata": {},
   "outputs": [],
   "source": [
    "def get_plane(sub_r, sub_c, promo_fl, promo_to):\n",
    "    if sub_r == 0:\n",
    "        if sub_c < 0:\n",
    "            return 20 + abs(sub_c)\n",
    "        else:\n",
    "            return 13 + sub_c\n",
    "    elif sub_c == 0:\n",
    "        if sub_r < 0 :\n",
    "            return abs(sub_r)\n",
    "        else:\n",
    "            if promo_fl:\n",
    "                if promo_to == 'n' : return 64\n",
    "                elif promo_to == 'b' : return 67\n",
    "                elif promo_to == 'r' : return 70\n",
    "            return 7 + sub_r\n",
    "    elif sub_r == sub_c:\n",
    "        if sub_r > 0 and sub_c < 0: return 27 + sub_r\n",
    "        if sub_r < 0 and sub_c < 0: return 34 + abs(sub_r)\n",
    "        if sub_r > 0 and sub_c > 0: return 41 + sub_r\n",
    "        if sub_r < 0 and sub_c > 0: return 48 + abs(sub_r)\n",
    "    else:\n",
    "        if sub_c == -1:\n",
    "            if sub_r == 2: return 56\n",
    "            if sub_r == -2: return 58\n",
    "        if sub_c == -2:\n",
    "            if sub_r == 1: return 57\n",
    "            if sub_r == -1: return 59\n",
    "        if sub_c == 1:\n",
    "            if sub_r == 2: return 60\n",
    "            if sub_r == -2: return 62\n",
    "        if sub_c == 2:\n",
    "            if sub_r == 1: return 61\n",
    "            if sub_r == -1: return 63\n",
    "        \n",
    "            "
   ]
  },
  {
   "cell_type": "code",
   "execution_count": null,
   "metadata": {},
   "outputs": [],
   "source": [
    "def get_location(move, player):\n",
    "    player.board.push(move)\n",
    "    temp_ip = player.serialize_ip(1)\n",
    "    _ = player.board.pop()\n",
    "    pre = board_rep(player.ip)\n",
    "    post = board_rep(temp_ip)\n",
    "    a = pre - post\n",
    "    pick_r, pick_c = np.where(a==1)\n",
    "    post_r, post_c = np.where(a==-1)\n",
    "    \n",
    "    sub_r = post_r - pick_r\n",
    "    sub_c = post_c - pick_c\n",
    "    \n",
    "    if len(move.uci()) == 5 and move.uci()[-1].lower() != 'q':\n",
    "        promo_fl = True\n",
    "        promo_to = move.uci()[-1].lower()\n",
    "    else:\n",
    "        promo_fl = False\n",
    "        promo_to = None\n",
    "        \n",
    "    d = get_plane(sub_r, sub_c, promo_fl, promo_to)\n",
    "    d = d if type(d) == int else d[0]\n",
    "    h, w = pick_r, pick_c\n",
    "    return (h[0], w[0], d)\n",
    "\n"
   ]
  },
  {
   "cell_type": "code",
   "execution_count": null,
   "metadata": {},
   "outputs": [],
   "source": [
    "[get_location(m, white) for m in moves]"
   ]
  },
  {
   "cell_type": "code",
   "execution_count": null,
   "metadata": {},
   "outputs": [],
   "source": [
    "h, w, d = get_location(moves[0], white)"
   ]
  },
  {
   "cell_type": "code",
   "execution_count": null,
   "metadata": {},
   "outputs": [],
   "source": [
    "d"
   ]
  },
  {
   "cell_type": "code",
   "execution_count": null,
   "metadata": {
    "scrolled": true
   },
   "outputs": [],
   "source": [
    "dir(d)"
   ]
  },
  {
   "cell_type": "code",
   "execution_count": null,
   "metadata": {},
   "outputs": [],
   "source": [
    "d"
   ]
  },
  {
   "cell_type": "code",
   "execution_count": null,
   "metadata": {},
   "outputs": [],
   "source": []
  }
 ],
 "metadata": {
  "kernelspec": {
   "display_name": "Python 3",
   "language": "python",
   "name": "python3"
  },
  "language_info": {
   "codemirror_mode": {
    "name": "ipython",
    "version": 3
   },
   "file_extension": ".py",
   "mimetype": "text/x-python",
   "name": "python",
   "nbconvert_exporter": "python",
   "pygments_lexer": "ipython3",
   "version": "3.6.8"
  }
 },
 "nbformat": 4,
 "nbformat_minor": 2
}
